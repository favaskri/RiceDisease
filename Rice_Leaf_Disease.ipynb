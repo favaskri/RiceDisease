{
 "cells": [
  {
   "cell_type": "code",
   "execution_count": 7,
   "id": "aad38b97",
   "metadata": {},
   "outputs": [],
   "source": [
    "import pandas as pd\n",
    "import numpy as np\n",
    "import matplotlib.pyplot as plt\n",
    "import tensorflow as tf"
   ]
  },
  {
   "cell_type": "code",
   "execution_count": 14,
   "id": "925c3a02",
   "metadata": {
    "scrolled": true
   },
   "outputs": [
    {
     "name": "stdout",
     "output_type": "stream",
     "text": [
      "TensorFlow version: 2.11.0\n"
     ]
    }
   ],
   "source": [
    "import tensorflow as tf  #pip install --ignore-installed --upgrade tensorflow \"type this in anacoda prompt\"\n",
    "# if you get  error ModuleNotFoundError: No module named 'tensorflow'\n",
    "print(\"TensorFlow version:\", tf.__version__)\n",
    "from tensorflow.keras import models,layers\n"
   ]
  },
  {
   "cell_type": "code",
   "execution_count": 41,
   "id": "b5750828",
   "metadata": {},
   "outputs": [],
   "source": [
    "BATCH_SIZE=32\n",
    "WIDTH=3081\n",
    "HIGHT=897\n",
    "CHANNELS=3\n",
    "directory =\"C:\\\\Users\\\\Favas\\\\DSC-25\\DSC-T\\\\Internship\\\\RiceLeafDisease\\\\.ipynb_checkpoints\\\\RiceLeaf\"\n"
   ]
  },
  {
   "cell_type": "code",
   "execution_count": 42,
   "id": "e57460fd",
   "metadata": {},
   "outputs": [
    {
     "name": "stdout",
     "output_type": "stream",
     "text": [
      "Found 119 files belonging to 3 classes.\n"
     ]
    }
   ],
   "source": [
    "# image loading\n",
    "dataset=tf.keras.preprocessing.image_dataset_from_directory(\n",
    "    directory,\n",
    "    shuffle=True,\n",
    "    image_size=(WIDTH,HIGHT),\n",
    "    batch_size=BATCH_SIZE\n",
    "    \n",
    ")\n",
    "\n",
    "#NotFoundError: Could not find directory RiceLeaf\n",
    "# Here instead of putting directory name it copy the path in to a variable and put that variable name\n",
    "#SyntaxError: (unicode error) 'unicodeescape' codec can't decode bytes in position 2-3: truncated \\UXXXXXXXX escape\n",
    "# I put double back slash for this\n"
   ]
  },
  {
   "cell_type": "code",
   "execution_count": 43,
   "id": "f0dc9e2e",
   "metadata": {},
   "outputs": [
    {
     "data": {
      "text/plain": [
       "['Bacterial leaf blight-20200814T055237Z-001',\n",
       " 'Brown spot-20200814T055208Z-001',\n",
       " 'Leaf smut-20200814T055530Z-001']"
      ]
     },
     "execution_count": 43,
     "metadata": {},
     "output_type": "execute_result"
    }
   ],
   "source": [
    "class_name=dataset.class_names\n",
    "class_name"
   ]
  },
  {
   "cell_type": "code",
   "execution_count": 44,
   "id": "80b93a9a",
   "metadata": {},
   "outputs": [
    {
     "data": {
      "text/plain": [
       "4"
      ]
     },
     "execution_count": 44,
     "metadata": {},
     "output_type": "execute_result"
    }
   ],
   "source": [
    "len(dataset)"
   ]
  },
  {
   "cell_type": "code",
   "execution_count": 49,
   "id": "855872d0",
   "metadata": {},
   "outputs": [
    {
     "name": "stdout",
     "output_type": "stream",
     "text": [
      "(3081, 897, 3)\n"
     ]
    }
   ],
   "source": [
    "for image_batch,label_batch in dataset.take(1):\n",
    "    # print(image_batch[0]) # First image tensor\n",
    "    #print(image_batch[0].numpy()) # using numpy\n",
    "      print(image_batch[0].shape) # shape of the first image\n",
    "#     print(image_batch.shape)  # shape of the batch\n",
    "#     print(label_batch.numpy())"
   ]
  },
  {
   "cell_type": "code",
   "execution_count": null,
   "id": "814e95b2",
   "metadata": {},
   "outputs": [],
   "source": []
  }
 ],
 "metadata": {
  "kernelspec": {
   "display_name": "Python 3 (ipykernel)",
   "language": "python",
   "name": "python3"
  },
  "language_info": {
   "codemirror_mode": {
    "name": "ipython",
    "version": 3
   },
   "file_extension": ".py",
   "mimetype": "text/x-python",
   "name": "python",
   "nbconvert_exporter": "python",
   "pygments_lexer": "ipython3",
   "version": "3.9.13"
  }
 },
 "nbformat": 4,
 "nbformat_minor": 5
}
